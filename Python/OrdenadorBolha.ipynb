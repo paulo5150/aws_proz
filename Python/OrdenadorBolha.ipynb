{
 "cells": [
  {
   "cell_type": "markdown",
   "id": "1510236e",
   "metadata": {},
   "source": [
    "##**Função Ordenador Bolha**"
   ]
  },
  {
   "cell_type": "code",
   "execution_count": 9,
   "id": "571b661a",
   "metadata": {},
   "outputs": [
    {
     "name": "stdout",
     "output_type": "stream",
     "text": [
      "[0, 1, 2, 4, 5, 5, 6, 7, 8, 9]\n"
     ]
    }
   ],
   "source": [
    "def ordenadorBolha(lista_a):\n",
    "    tamanho_indice = len(lista_a) -1\n",
    "    ordenado = False\n",
    "    \n",
    "    while not ordenado:\n",
    "        ordenado = True\n",
    "        for i in range(0, tamanho_indice):\n",
    "            if lista_a[i]>lista_a[i+1]:\n",
    "                ordenado = False\n",
    "                lista_a[i], lista_a[i+1] = lista_a[i+1], lista_a[i]\n",
    "    return lista_a\n",
    "\n",
    "print(ordenadorBolha([9,5,2,8,1,7,4,6,5,0]))\n",
    "\n"
   ]
  }
 ],
 "metadata": {
  "kernelspec": {
   "display_name": "Python 3 (ipykernel)",
   "language": "python",
   "name": "python3"
  },
  "language_info": {
   "codemirror_mode": {
    "name": "ipython",
    "version": 3
   },
   "file_extension": ".py",
   "mimetype": "text/x-python",
   "name": "python",
   "nbconvert_exporter": "python",
   "pygments_lexer": "ipython3",
   "version": "3.10.12"
  }
 },
 "nbformat": 4,
 "nbformat_minor": 5
}
