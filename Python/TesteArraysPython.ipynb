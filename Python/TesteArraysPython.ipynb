{
 "cells": [
  {
   "cell_type": "markdown",
   "id": "c87d7f8e",
   "metadata": {},
   "source": [
    "#**TESTE DE ARRAY**\n",
    "\n",
    "Teste de Array com laço de repetição com variável de controle"
   ]
  },
  {
   "cell_type": "code",
   "execution_count": 17,
   "id": "f3f4ee24",
   "metadata": {
    "scrolled": true
   },
   "outputs": [
    {
     "name": "stdout",
     "output_type": "stream",
     "text": [
      "Item 0  -  carne\n",
      "Item 1  -  ovos\n",
      "Item 2  -  banana\n",
      "Item 3  -  leite\n",
      "Item 4  -  tomate\n",
      "Item 5  -  alface\n",
      "\n",
      "\n",
      "Item 0  -  queijo\n",
      "Item 1  -  ovos\n",
      "Item 2  -  banana\n",
      "Item 3  -  leite\n",
      "Item 4  -  tomate\n",
      "Item 5  -  alface\n",
      "\n",
      "\n",
      "Item 0  -  queijo\n",
      "Item 1  -  ovos\n",
      "Item 2  -  maçã\n",
      "Item 3  -  leite\n",
      "Item 4  -  tomate\n",
      "Item 5  -  rúcula\n",
      "\n",
      "\n",
      "['ovos', 'ovos', 'maçã', 'leite', 'tomate', 'rúcula']\n",
      "['ovos', 'ovos', 'maçã', 'leite', 'tomate', 'rúcula', 'desinfetante']\n",
      "['ovos', 'ovos', 'maçã', 'leite', 'tomate', 'rúcula']\n"
     ]
    }
   ],
   "source": [
    "lista_de_compras = [\"carne\", \"ovos\", \"banana\", \"leite\", \"tomate\", \"alface\"] #Array de Strings\n",
    "\n",
    "for i in range(len(lista_de_compras)): #laço de repetição para imprimir os itens do array\n",
    "    print(\"Item \" + str(i), \" - \", lista_de_compras[i])\n",
    "\n",
    "lista_de_compras[0] = 'queijo' #atribuindo a string 'queijo' à variável 'lista_de_compras' na posição 0 do vetor\n",
    "\n",
    "print('\\n')\n",
    "\n",
    "for i in range(len(lista_de_compras)): #laço de repetição para imprimir os itens do array\n",
    "    print(\"Item \" + str(i), \" - \", lista_de_compras[i])\n",
    "\n",
    "lista_de_compras[2], lista_de_compras[5] = 'maçã', 'rúcula'#atribuindo a string 'maçã' e 'rúcula' à variável 'lista_de_compras' nas posições 2 e 5 do vetor\n",
    "\n",
    "\n",
    "print('\\n')    \n",
    "\n",
    "for i in range(len(lista_de_compras)): #laço de repetição para imprimir os itens do array\n",
    "    print(\"Item \" + str(i), \" - \", lista_de_compras[i])\n",
    "    \n",
    "lista_de_compras[0] = lista_de_compras[1] #atribui o item 1 do array à posição 0 do array\n",
    "\n",
    "print('\\n')    \n",
    "\n",
    "print(lista_de_compras)\n",
    "\n",
    "lista_de_compras.append('desinfetante') #função que atribui o que está no parâmetro da função ao array\n",
    "\n",
    "print(lista_de_compras)\n",
    "\n",
    "lista_de_compras.pop() #função que exclui o que está na última posição do array\n",
    "\n",
    "print(lista_de_compras)"
   ]
  },
  {
   "cell_type": "code",
   "execution_count": null,
   "id": "9e43dca0",
   "metadata": {},
   "outputs": [],
   "source": []
  }
 ],
 "metadata": {
  "kernelspec": {
   "display_name": "Python 3 (ipykernel)",
   "language": "python",
   "name": "python3"
  },
  "language_info": {
   "codemirror_mode": {
    "name": "ipython",
    "version": 3
   },
   "file_extension": ".py",
   "mimetype": "text/x-python",
   "name": "python",
   "nbconvert_exporter": "python",
   "pygments_lexer": "ipython3",
   "version": "3.10.12"
  }
 },
 "nbformat": 4,
 "nbformat_minor": 5
}
