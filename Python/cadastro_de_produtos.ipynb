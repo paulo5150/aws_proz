{
 "cells": [
  {
   "cell_type": "code",
   "execution_count": null,
   "id": "e58c393e",
   "metadata": {},
   "outputs": [
    {
     "name": "stdout",
     "output_type": "stream",
     "text": [
      "Escolha uma opção:\n",
      "1.Exibir lista de produtos.\n",
      "2.Adicionar novo item.\n",
      "3.Substituir um item\n",
      "0.Sair\n",
      "1\n",
      "Escolha uma opção:\n",
      "1.Exibir lista de produtos.\n",
      "2.Adicionar novo item.\n",
      "3.Substituir um item\n",
      "0.Sair\n",
      "1\n",
      "banana\n",
      "limão\n",
      "laranja\n",
      "uva\n",
      "Escolha uma opção:\n",
      "1.Exibir lista de produtos.\n",
      "2.Adicionar novo item.\n",
      "3.Substituir um item\n",
      "0.Sair\n",
      "2\n",
      "Erro! Digite uma opção válida\n",
      "\n",
      "Escolha uma opção:\n",
      "1.Exibir lista de produtos.\n",
      "2.Adicionar novo item.\n",
      "3.Substituir um item\n",
      "0.Sair\n",
      "2\n",
      "Erro! Digite uma opção válida\n",
      "\n",
      "Escolha uma opção:\n",
      "1.Exibir lista de produtos.\n",
      "2.Adicionar novo item.\n",
      "3.Substituir um item\n",
      "0.Sair\n"
     ]
    }
   ],
   "source": [
    "def interacao_usuario(opcao):\n",
    "    condicao = False\n",
    "    while condicao == False:\n",
    "        print(\"Escolha uma opção:\\n1.Exibir lista de produtos.\\n2.Adicionar novo item.\\n3.Substituir um item\\n0.Sair\")\n",
    "\n",
    "        opcao = int(input())\n",
    "        try:\n",
    "            if opcao == 1: #Imprime a lista de itens\n",
    "                for i in range(len(arr)):\n",
    "                    print(arr[i])\n",
    "            elif opcao == 2:#Adiciona um novo item\n",
    "                arr.append()\n",
    "                print(\"Item adicionado com sucesso\\n\")\n",
    "            elif opcao == 3:#Substitui um item existente\n",
    "                produto_subs = input(\"Digite o produto a ser substituído: \")\n",
    "                for i in range(len(arr)):\n",
    "                    if produto_subs == arr[i]:\n",
    "                        arr[i] = input(\"Digite o novo produto: \")\n",
    "                    else:\n",
    "                        print(\"Produto não encontrador\")\n",
    "            elif opcao == 0:#Sair\n",
    "                condicao == True\n",
    "                print(\"\\nSaindo...\")\n",
    "            else:\n",
    "                print(\"Erro! Digite uma opção válida\\n\")\n",
    "        except:\n",
    "            print(\"Erro! Digite uma opção válida\\n\")\n",
    "            \n",
    "arr = [\"banana\", \"limão\", \"laranja\", \"uva\"]            \n",
    "\n",
    "print(\"Escolha uma opção:\\n1.Exibir lista de produtos.\\n2.Adicionar novo item.\\n3.Substituir um item\\n0.Sair\")\n",
    "\n",
    "interacao_usuario(opcao = int(input()))\n",
    "                \n",
    "                "
   ]
  },
  {
   "cell_type": "code",
   "execution_count": null,
   "id": "c446e3bd",
   "metadata": {},
   "outputs": [],
   "source": []
  }
 ],
 "metadata": {
  "kernelspec": {
   "display_name": "Python 3 (ipykernel)",
   "language": "python",
   "name": "python3"
  },
  "language_info": {
   "codemirror_mode": {
    "name": "ipython",
    "version": 3
   },
   "file_extension": ".py",
   "mimetype": "text/x-python",
   "name": "python",
   "nbconvert_exporter": "python",
   "pygments_lexer": "ipython3",
   "version": "3.10.12"
  }
 },
 "nbformat": 4,
 "nbformat_minor": 5
}
